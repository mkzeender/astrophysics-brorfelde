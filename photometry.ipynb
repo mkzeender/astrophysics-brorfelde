{
 "cells": [
  {
   "cell_type": "code",
   "execution_count": 1,
   "metadata": {},
   "outputs": [],
   "source": [
    "import pandas as pd\n",
    "from astropy.io import fits\n",
    "import numpy as np\n",
    "from pathlib import Path\n",
    "import glob\n",
    "\n",
    "from dateutil.parser import parse\n",
    "import align_moving\n",
    "\n",
    "from importlib import reload\n",
    "\n",
    "from os.path import exists"
   ]
  },
  {
   "cell_type": "code",
   "execution_count": 3,
   "metadata": {},
   "outputs": [
    {
     "data": {
      "text/html": [
       "<div>\n",
       "<style scoped>\n",
       "    .dataframe tbody tr th:only-of-type {\n",
       "        vertical-align: middle;\n",
       "    }\n",
       "\n",
       "    .dataframe tbody tr th {\n",
       "        vertical-align: top;\n",
       "    }\n",
       "\n",
       "    .dataframe thead th {\n",
       "        text-align: right;\n",
       "    }\n",
       "</style>\n",
       "<table border=\"1\" class=\"dataframe\">\n",
       "  <thead>\n",
       "    <tr style=\"text-align: right;\">\n",
       "      <th></th>\n",
       "      <th>Unnamed: 0</th>\n",
       "      <th>filepath</th>\n",
       "      <th>timestamp</th>\n",
       "      <th>ref_img</th>\n",
       "      <th>ok</th>\n",
       "      <th>aligned_filepath</th>\n",
       "    </tr>\n",
       "  </thead>\n",
       "  <tbody>\n",
       "    <tr>\n",
       "      <th>0</th>\n",
       "      <td>0</td>\n",
       "      <td>processed/combined_2022-11-13T03:49:33.0000__B...</td>\n",
       "      <td>2022-11-13 03:49:33</td>\n",
       "      <td>./processed/combined_2022-11-13T02:40:26.0000_...</td>\n",
       "      <td>True</td>\n",
       "      <td>aligned/combined_2022-11-13T03:49:33.0000__Bro...</td>\n",
       "    </tr>\n",
       "    <tr>\n",
       "      <th>1</th>\n",
       "      <td>2</td>\n",
       "      <td>processed/combined_2022-11-12T07:15:36.0000__B...</td>\n",
       "      <td>2022-11-12 07:15:36</td>\n",
       "      <td>./processed/combined_2022-11-12T06:59:36.0000_...</td>\n",
       "      <td>False</td>\n",
       "      <td>aligned/combined_2022-11-12T07:15:36.0000__Bro...</td>\n",
       "    </tr>\n",
       "    <tr>\n",
       "      <th>2</th>\n",
       "      <td>3</td>\n",
       "      <td>processed/combined_2022-11-11T07:16:31.0000__B...</td>\n",
       "      <td>2022-11-11 07:16:31</td>\n",
       "      <td>./processed/combined_2022-11-11T05:51:00.0000_...</td>\n",
       "      <td>False</td>\n",
       "      <td>aligned/combined_2022-11-11T07:16:31.0000__Bro...</td>\n",
       "    </tr>\n",
       "    <tr>\n",
       "      <th>3</th>\n",
       "      <td>4</td>\n",
       "      <td>processed/combined_2022-11-12T06:12:20.0000__B...</td>\n",
       "      <td>2022-11-12 06:12:20</td>\n",
       "      <td>./processed/combined_2022-11-12T06:59:36.0000_...</td>\n",
       "      <td>False</td>\n",
       "      <td>aligned/combined_2022-11-12T06:12:20.0000__Bro...</td>\n",
       "    </tr>\n",
       "    <tr>\n",
       "      <th>4</th>\n",
       "      <td>5</td>\n",
       "      <td>processed/combined_2022-11-11T06:14:00.0000__B...</td>\n",
       "      <td>2022-11-11 06:14:00</td>\n",
       "      <td>./processed/combined_2022-11-11T05:51:00.0000_...</td>\n",
       "      <td>True</td>\n",
       "      <td>aligned/combined_2022-11-11T06:14:00.0000__Bro...</td>\n",
       "    </tr>\n",
       "    <tr>\n",
       "      <th>...</th>\n",
       "      <td>...</td>\n",
       "      <td>...</td>\n",
       "      <td>...</td>\n",
       "      <td>...</td>\n",
       "      <td>...</td>\n",
       "      <td>...</td>\n",
       "    </tr>\n",
       "    <tr>\n",
       "      <th>605</th>\n",
       "      <td>656</td>\n",
       "      <td>processed/combined_2022-11-11T06:47:20.0000__B...</td>\n",
       "      <td>2022-11-11 06:47:20</td>\n",
       "      <td>./processed/combined_2022-11-11T05:51:00.0000_...</td>\n",
       "      <td>False</td>\n",
       "      <td>aligned/combined_2022-11-11T06:47:20.0000__Bro...</td>\n",
       "    </tr>\n",
       "    <tr>\n",
       "      <th>606</th>\n",
       "      <td>657</td>\n",
       "      <td>processed/combined_2022-11-13T06:35:57.0000__B...</td>\n",
       "      <td>2022-11-13 06:35:57</td>\n",
       "      <td>./processed/combined_2022-11-13T02:40:26.0000_...</td>\n",
       "      <td>True</td>\n",
       "      <td>aligned/combined_2022-11-13T06:35:57.0000__Bro...</td>\n",
       "    </tr>\n",
       "    <tr>\n",
       "      <th>607</th>\n",
       "      <td>658</td>\n",
       "      <td>processed/combined_2022-11-13T05:10:40.0000__B...</td>\n",
       "      <td>2022-11-13 05:10:40</td>\n",
       "      <td>./processed/combined_2022-11-13T02:40:26.0000_...</td>\n",
       "      <td>False</td>\n",
       "      <td>aligned/combined_2022-11-13T05:10:40.0000__Bro...</td>\n",
       "    </tr>\n",
       "    <tr>\n",
       "      <th>608</th>\n",
       "      <td>659</td>\n",
       "      <td>processed/combined_2022-11-11T07:44:51.0000__B...</td>\n",
       "      <td>2022-11-11 07:44:51</td>\n",
       "      <td>./processed/combined_2022-11-11T05:51:00.0000_...</td>\n",
       "      <td>False</td>\n",
       "      <td>aligned/combined_2022-11-11T07:44:51.0000__Bro...</td>\n",
       "    </tr>\n",
       "    <tr>\n",
       "      <th>609</th>\n",
       "      <td>660</td>\n",
       "      <td>processed/combined_2022-11-12T07:47:56.0000__B...</td>\n",
       "      <td>2022-11-12 07:47:56</td>\n",
       "      <td>./processed/combined_2022-11-12T06:59:36.0000_...</td>\n",
       "      <td>False</td>\n",
       "      <td>aligned/combined_2022-11-12T07:47:56.0000__Bro...</td>\n",
       "    </tr>\n",
       "  </tbody>\n",
       "</table>\n",
       "<p>610 rows × 6 columns</p>\n",
       "</div>"
      ],
      "text/plain": [
       "     Unnamed: 0                                           filepath  \\\n",
       "0             0  processed/combined_2022-11-13T03:49:33.0000__B...   \n",
       "1             2  processed/combined_2022-11-12T07:15:36.0000__B...   \n",
       "2             3  processed/combined_2022-11-11T07:16:31.0000__B...   \n",
       "3             4  processed/combined_2022-11-12T06:12:20.0000__B...   \n",
       "4             5  processed/combined_2022-11-11T06:14:00.0000__B...   \n",
       "..          ...                                                ...   \n",
       "605         656  processed/combined_2022-11-11T06:47:20.0000__B...   \n",
       "606         657  processed/combined_2022-11-13T06:35:57.0000__B...   \n",
       "607         658  processed/combined_2022-11-13T05:10:40.0000__B...   \n",
       "608         659  processed/combined_2022-11-11T07:44:51.0000__B...   \n",
       "609         660  processed/combined_2022-11-12T07:47:56.0000__B...   \n",
       "\n",
       "              timestamp                                            ref_img  \\\n",
       "0   2022-11-13 03:49:33  ./processed/combined_2022-11-13T02:40:26.0000_...   \n",
       "1   2022-11-12 07:15:36  ./processed/combined_2022-11-12T06:59:36.0000_...   \n",
       "2   2022-11-11 07:16:31  ./processed/combined_2022-11-11T05:51:00.0000_...   \n",
       "3   2022-11-12 06:12:20  ./processed/combined_2022-11-12T06:59:36.0000_...   \n",
       "4   2022-11-11 06:14:00  ./processed/combined_2022-11-11T05:51:00.0000_...   \n",
       "..                  ...                                                ...   \n",
       "605 2022-11-11 06:47:20  ./processed/combined_2022-11-11T05:51:00.0000_...   \n",
       "606 2022-11-13 06:35:57  ./processed/combined_2022-11-13T02:40:26.0000_...   \n",
       "607 2022-11-13 05:10:40  ./processed/combined_2022-11-13T02:40:26.0000_...   \n",
       "608 2022-11-11 07:44:51  ./processed/combined_2022-11-11T05:51:00.0000_...   \n",
       "609 2022-11-12 07:47:56  ./processed/combined_2022-11-12T06:59:36.0000_...   \n",
       "\n",
       "        ok                                   aligned_filepath  \n",
       "0     True  aligned/combined_2022-11-13T03:49:33.0000__Bro...  \n",
       "1    False  aligned/combined_2022-11-12T07:15:36.0000__Bro...  \n",
       "2    False  aligned/combined_2022-11-11T07:16:31.0000__Bro...  \n",
       "3    False  aligned/combined_2022-11-12T06:12:20.0000__Bro...  \n",
       "4     True  aligned/combined_2022-11-11T06:14:00.0000__Bro...  \n",
       "..     ...                                                ...  \n",
       "605  False  aligned/combined_2022-11-11T06:47:20.0000__Bro...  \n",
       "606   True  aligned/combined_2022-11-13T06:35:57.0000__Bro...  \n",
       "607  False  aligned/combined_2022-11-13T05:10:40.0000__Bro...  \n",
       "608  False  aligned/combined_2022-11-11T07:44:51.0000__Bro...  \n",
       "609  False  aligned/combined_2022-11-12T07:47:56.0000__Bro...  \n",
       "\n",
       "[610 rows x 6 columns]"
      ]
     },
     "execution_count": 3,
     "metadata": {},
     "output_type": "execute_result"
    }
   ],
   "source": [
    "# read in images table\n",
    "\n",
    "imgs = pd.read_csv('img_master_spreadsheet.csv')\n",
    "\n",
    "imgs['timestamp'] = imgs['timestamp'].apply(parse)\n",
    "\n",
    "def _get_aligned_img_path(fp: str):\n",
    "    return str(Path('./aligned/').joinpath(Path(fp).name.rstrip('.fits') + '_affineremap.fits'))\n",
    "\n",
    "imgs['aligned_filepath'] = imgs['filepath'].apply(_get_aligned_img_path)\n",
    "imgs['ok'] = imgs['aligned_filepath'].apply(exists)\n",
    "\n",
    "okay = imgs['ok'] == True\n",
    "\n",
    "#imgs.sort_values('timestamp', inplace=True)\n",
    "\n",
    "imgs\n",
    "# PLEASE RUN THE FILTER CELL AFTER THIS (see above)"
   ]
  },
  {
   "cell_type": "code",
   "execution_count": 5,
   "metadata": {},
   "outputs": [],
   "source": [
    "# FILTER CELL\n",
    "\n",
    "night_1 = (imgs['timestamp'] >= parse('2022-11-11T05:51:00')) & (imgs['timestamp'] < parse('2022-11-12T00:00:00'))\n",
    "\n",
    "\n",
    "\n",
    "night_2_group_1 = (\n",
    "    (parse('2022-11-12T00:00:00') <= imgs['timestamp']) & \n",
    "    (imgs['timestamp'] < parse('2022-11-12T05:59:20'))\n",
    "    )\n",
    "\n",
    "night_2_group_2 = (\n",
    "    (parse('2022-11-12T05:59:20') <= imgs['timestamp']) & \n",
    "    (imgs['timestamp'] < parse('2022-11-13T00:00:00'))\n",
    "    )\n",
    "\n",
    "\n",
    "night_3 = (\n",
    "    (parse('2022-11-13T00:00:00') <= imgs['timestamp']) & \n",
    "    (imgs['timestamp'] < parse('2022-11-14T00:00:00'))\n",
    "    )\n"
   ]
  },
  {
   "cell_type": "code",
   "execution_count": 19,
   "metadata": {},
   "outputs": [],
   "source": [
    "align_moving = reload(align_moving)"
   ]
  },
  {
   "cell_type": "markdown",
   "metadata": {},
   "source": [
    "# Photometry"
   ]
  },
  {
   "cell_type": "code",
   "execution_count": null,
   "metadata": {},
   "outputs": [
    {
     "name": "stdout",
     "output_type": "stream",
     "text": [
      "1444.7405127340194, 584.4306797099007, '2022-11-12T02:42:48.0000'\n",
      "1445.0230224321135, 583.3006409175242, '2022-11-12T02:42:48.0000'\n"
     ]
    }
   ],
   "source": [
    "# click on image to print its coordinates and timestamp!\n",
    "# MAKE SURE TO RUN pip install mplcursors\n",
    "%matplotlib tk\n",
    "\n",
    "align_moving.get_coords_of_point(imgs.loc[night_2_group_1 & okay, 'aligned_filepath'].iloc[1])"
   ]
  },
  {
   "cell_type": "code",
   "execution_count": 7,
   "metadata": {},
   "outputs": [
    {
     "name": "stderr",
     "output_type": "stream",
     "text": [
      "/var/folders/p8/xx7c8vpj7qj510bw5jdsr0800000gq/T/ipykernel_27535/1414686120.py:8: UserWarning: Boolean Series key will be reindexed to match DataFrame index.\n",
      "  imgs[okay][night_1]['aligned_filepath'],\n"
     ]
    },
    {
     "ename": "IndexError",
     "evalue": "list index out of range",
     "output_type": "error",
     "traceback": [
      "\u001b[0;31m---------------------------------------------------------------------------\u001b[0m",
      "\u001b[0;31mIndexError\u001b[0m                                Traceback (most recent call last)",
      "\u001b[1;32m/Users/student/A101/Project/photometry.ipynb Cell 8\u001b[0m in \u001b[0;36m<cell line: 7>\u001b[0;34m()\u001b[0m\n\u001b[1;32m      <a href='vscode-notebook-cell:/Users/student/A101/Project/photometry.ipynb#W6sZmlsZQ%3D%3D?line=2'>3</a>\u001b[0m get_ipython()\u001b[39m.\u001b[39mrun_line_magic(\u001b[39m'\u001b[39m\u001b[39mmatplotlib\u001b[39m\u001b[39m'\u001b[39m, \u001b[39m'\u001b[39m\u001b[39mtk\u001b[39m\u001b[39m'\u001b[39m)\n\u001b[1;32m      <a href='vscode-notebook-cell:/Users/student/A101/Project/photometry.ipynb#W6sZmlsZQ%3D%3D?line=4'>5</a>\u001b[0m FWHM \u001b[39m=\u001b[39m \u001b[39m13\u001b[39m\n\u001b[0;32m----> <a href='vscode-notebook-cell:/Users/student/A101/Project/photometry.ipynb#W6sZmlsZQ%3D%3D?line=6'>7</a>\u001b[0m photometry \u001b[39m=\u001b[39m align_moving\u001b[39m.\u001b[39;49mdo_photometry_with_timestamps(\n\u001b[1;32m      <a href='vscode-notebook-cell:/Users/student/A101/Project/photometry.ipynb#W6sZmlsZQ%3D%3D?line=7'>8</a>\u001b[0m     imgs[okay][night_1][\u001b[39m'\u001b[39;49m\u001b[39maligned_filepath\u001b[39;49m\u001b[39m'\u001b[39;49m],\n\u001b[1;32m      <a href='vscode-notebook-cell:/Users/student/A101/Project/photometry.ipynb#W6sZmlsZQ%3D%3D?line=8'>9</a>\u001b[0m \n\u001b[1;32m     <a href='vscode-notebook-cell:/Users/student/A101/Project/photometry.ipynb#W6sZmlsZQ%3D%3D?line=9'>10</a>\u001b[0m     start_object_x\u001b[39m=\u001b[39;49m\u001b[39m723.7147046501888\u001b[39;49m,\n\u001b[1;32m     <a href='vscode-notebook-cell:/Users/student/A101/Project/photometry.ipynb#W6sZmlsZQ%3D%3D?line=10'>11</a>\u001b[0m     start_object_y\u001b[39m=\u001b[39;49m\u001b[39m944.1470203183914\u001b[39;49m,\n\u001b[1;32m     <a href='vscode-notebook-cell:/Users/student/A101/Project/photometry.ipynb#W6sZmlsZQ%3D%3D?line=11'>12</a>\u001b[0m     start_object_t\u001b[39m=\u001b[39;49m\u001b[39m'\u001b[39;49m\u001b[39m2022-11-11T06:14:00.0000\u001b[39;49m\u001b[39m'\u001b[39;49m,\n\u001b[1;32m     <a href='vscode-notebook-cell:/Users/student/A101/Project/photometry.ipynb#W6sZmlsZQ%3D%3D?line=12'>13</a>\u001b[0m \n\u001b[1;32m     <a href='vscode-notebook-cell:/Users/student/A101/Project/photometry.ipynb#W6sZmlsZQ%3D%3D?line=13'>14</a>\u001b[0m     end_object_x\u001b[39m=\u001b[39;49m\u001b[39m676.7723412773491\u001b[39;49m,\n\u001b[1;32m     <a href='vscode-notebook-cell:/Users/student/A101/Project/photometry.ipynb#W6sZmlsZQ%3D%3D?line=14'>15</a>\u001b[0m     end_object_y\u001b[39m=\u001b[39;49m\u001b[39m948.8662977890997\u001b[39;49m,\n\u001b[1;32m     <a href='vscode-notebook-cell:/Users/student/A101/Project/photometry.ipynb#W6sZmlsZQ%3D%3D?line=15'>16</a>\u001b[0m     end_object_t\u001b[39m=\u001b[39;49m\u001b[39m'\u001b[39;49m\u001b[39m2022-11-11T06:01:00.0000\u001b[39;49m\u001b[39m'\u001b[39;49m, \n\u001b[1;32m     <a href='vscode-notebook-cell:/Users/student/A101/Project/photometry.ipynb#W6sZmlsZQ%3D%3D?line=16'>17</a>\u001b[0m \n\u001b[1;32m     <a href='vscode-notebook-cell:/Users/student/A101/Project/photometry.ipynb#W6sZmlsZQ%3D%3D?line=17'>18</a>\u001b[0m     aperture_\u001b[39m=\u001b[39;49mFWHM\u001b[39m*\u001b[39;49m\u001b[39m3\u001b[39;49m,\n\u001b[1;32m     <a href='vscode-notebook-cell:/Users/student/A101/Project/photometry.ipynb#W6sZmlsZQ%3D%3D?line=18'>19</a>\u001b[0m     annulus_inner\u001b[39m=\u001b[39;49m\u001b[39m5\u001b[39;49m\u001b[39m*\u001b[39;49mFWHM,\n\u001b[1;32m     <a href='vscode-notebook-cell:/Users/student/A101/Project/photometry.ipynb#W6sZmlsZQ%3D%3D?line=19'>20</a>\u001b[0m     annulus_outer\u001b[39m=\u001b[39;49m\u001b[39m9\u001b[39;49m\u001b[39m*\u001b[39;49mFWHM,\n\u001b[1;32m     <a href='vscode-notebook-cell:/Users/student/A101/Project/photometry.ipynb#W6sZmlsZQ%3D%3D?line=20'>21</a>\u001b[0m     dry_run\u001b[39m=\u001b[39;49m\u001b[39mTrue\u001b[39;49;00m,\n\u001b[1;32m     <a href='vscode-notebook-cell:/Users/student/A101/Project/photometry.ipynb#W6sZmlsZQ%3D%3D?line=21'>22</a>\u001b[0m \n\u001b[1;32m     <a href='vscode-notebook-cell:/Users/student/A101/Project/photometry.ipynb#W6sZmlsZQ%3D%3D?line=22'>23</a>\u001b[0m     reference_positions\u001b[39m=\u001b[39;49m[] \u001b[39m# CHANGE THIS\u001b[39;49;00m\n\u001b[1;32m     <a href='vscode-notebook-cell:/Users/student/A101/Project/photometry.ipynb#W6sZmlsZQ%3D%3D?line=23'>24</a>\u001b[0m  \n\u001b[1;32m     <a href='vscode-notebook-cell:/Users/student/A101/Project/photometry.ipynb#W6sZmlsZQ%3D%3D?line=24'>25</a>\u001b[0m )\n\u001b[1;32m     <a href='vscode-notebook-cell:/Users/student/A101/Project/photometry.ipynb#W6sZmlsZQ%3D%3D?line=26'>27</a>\u001b[0m photometry\n",
      "File \u001b[0;32m~/A101/Project/align_moving.py:119\u001b[0m, in \u001b[0;36mdo_photometry_with_timestamps\u001b[0;34m(images, start_object_x, start_object_y, start_object_t, end_object_x, end_object_y, end_object_t, aperture_, annulus_inner, annulus_outer, dry_run, reference_positions)\u001b[0m\n\u001b[1;32m    114\u001b[0m         photometry_target[\u001b[39m'\u001b[39m\u001b[39mtimestamp\u001b[39m\u001b[39m'\u001b[39m]\u001b[39m.\u001b[39miloc[i] \u001b[39m=\u001b[39m t_obj_readable\n\u001b[1;32m    115\u001b[0m     \u001b[39m## add more here if there are more than 2 apertures\u001b[39;00m\n\u001b[1;32m    116\u001b[0m \n\u001b[1;32m    117\u001b[0m \u001b[39m#photometry_star_mean = pd.DataFrame(columns = [\"num\", \"id\", \"xcenter\", \"ycenter\", \"aperture_sum\", \"total_bkg\", \"aperture_sum_bkgsub\"])\u001b[39;00m\n\u001b[0;32m--> 119\u001b[0m photometry_star_mean \u001b[39m=\u001b[39m photometry_star_list[\u001b[39m0\u001b[39;49m]\n\u001b[1;32m    120\u001b[0m \u001b[39m# calculate the mean values for all the stars\u001b[39;00m\n\u001b[1;32m    121\u001b[0m \u001b[39mfor\u001b[39;00m data_frame \u001b[39min\u001b[39;00m photometry_star_list[\u001b[39m1\u001b[39m:]:\n",
      "\u001b[0;31mIndexError\u001b[0m: list index out of range"
     ]
    }
   ],
   "source": [
    "# NIGHT 1\n",
    "\n",
    "%matplotlib tk\n",
    "\n",
    "FWHM = 13\n",
    "\n",
    "photometry = align_moving.do_photometry_with_timestamps(\n",
    "    imgs[okay][night_1]['aligned_filepath'],\n",
    "\n",
    "    start_object_x=723.7147046501888,\n",
    "    start_object_y=944.1470203183914,\n",
    "    start_object_t='2022-11-11T06:14:00.0000',\n",
    "\n",
    "    end_object_x=676.7723412773491,\n",
    "    end_object_y=948.8662977890997,\n",
    "    end_object_t='2022-11-11T06:01:00.0000', \n",
    "\n",
    "    aperture_=FWHM*3,\n",
    "    annulus_inner=5*FWHM,\n",
    "    annulus_outer=9*FWHM,\n",
    "    dry_run=True,\n",
    "\n",
    "    reference_positions=[] # CHANGE THIS\n",
    " \n",
    ")\n",
    "\n",
    "photometry"
   ]
  },
  {
   "cell_type": "code",
   "execution_count": 25,
   "metadata": {},
   "outputs": [
    {
     "name": "stdout",
     "output_type": "stream",
     "text": [
      "0      3838.828946\n",
      "1      4049.702873\n",
      "2      3955.284480\n",
      "3      4360.895480\n",
      "4      4456.608365\n",
      "          ...     \n",
      "114    4663.287861\n",
      "115    4510.844404\n",
      "116    4246.611487\n",
      "117    3578.580818\n",
      "118    3930.402249\n",
      "Name: aperture_sum_bkgsub, Length: 119, dtype: float64\n"
     ]
    },
    {
     "name": "stderr",
     "output_type": "stream",
     "text": [
      "/Users/student/A101/Project/align_moving.py:138: SettingWithCopyWarning: \n",
      "A value is trying to be set on a copy of a slice from a DataFrame\n",
      "\n",
      "See the caveats in the documentation: https://pandas.pydata.org/pandas-docs/stable/user_guide/indexing.html#returning-a-view-versus-a-copy\n",
      "  combined_data[\"num\"].loc[i] = i\n"
     ]
    },
    {
     "data": {
      "text/html": [
       "<div>\n",
       "<style scoped>\n",
       "    .dataframe tbody tr th:only-of-type {\n",
       "        vertical-align: middle;\n",
       "    }\n",
       "\n",
       "    .dataframe tbody tr th {\n",
       "        vertical-align: top;\n",
       "    }\n",
       "\n",
       "    .dataframe thead th {\n",
       "        text-align: right;\n",
       "    }\n",
       "</style>\n",
       "<table border=\"1\" class=\"dataframe\">\n",
       "  <thead>\n",
       "    <tr style=\"text-align: right;\">\n",
       "      <th></th>\n",
       "      <th>target_subtracted_counts</th>\n",
       "      <th>star_subtracted_counts</th>\n",
       "      <th>num</th>\n",
       "      <th>timestamp</th>\n",
       "      <th>differential</th>\n",
       "      <th>uncalibrated_star_mag</th>\n",
       "      <th>uncalibrated_target_mag</th>\n",
       "      <th>differential_mag</th>\n",
       "    </tr>\n",
       "  </thead>\n",
       "  <tbody>\n",
       "  </tbody>\n",
       "</table>\n",
       "</div>"
      ],
      "text/plain": [
       "Empty DataFrame\n",
       "Columns: [target_subtracted_counts, star_subtracted_counts, num, timestamp, differential, uncalibrated_star_mag, uncalibrated_target_mag, differential_mag]\n",
       "Index: []"
      ]
     },
     "execution_count": 25,
     "metadata": {},
     "output_type": "execute_result"
    }
   ],
   "source": [
    "# Night 2 group 1\n",
    "\n",
    "%matplotlib tk\n",
    "\n",
    "FWHM = 10\n",
    "\n",
    "photometry = align_moving.do_photometry_with_timestamps(\n",
    "    imgs[okay & night_2_group_1]['aligned_filepath'],\n",
    "\n",
    "    start_object_x=651,\n",
    "    start_object_y=983,\n",
    "    start_object_t='2022-11-12T02:49:48',\n",
    "\n",
    "    end_object_x=1088,\n",
    "    end_object_y=938,\n",
    "    end_object_t='2022-11-12T04:51:31', \n",
    "\n",
    "    aperture_=FWHM*3,\n",
    "    annulus_inner=5*FWHM,\n",
    "    annulus_outer=9*FWHM,\n",
    "    dry_run=False,\n",
    "\n",
    "    reference_positions=[(1009.8564266803644, 511.4699819071131), (1445.0230224321135, 583.3006409175242)] # CHANGE THIS\n",
    "\n",
    ")\n",
    "\n",
    "photometry"
   ]
  },
  {
   "cell_type": "code",
   "execution_count": 8,
   "metadata": {},
   "outputs": [
    {
     "name": "stderr",
     "output_type": "stream",
     "text": [
      "/var/folders/p8/xx7c8vpj7qj510bw5jdsr0800000gq/T/ipykernel_27535/2918774185.py:12: UserWarning: Boolean Series key will be reindexed to match DataFrame index.\n",
      "  imgs[okay][night_3]['aligned_filepath'],\n"
     ]
    },
    {
     "ename": "IndexError",
     "evalue": "list index out of range",
     "output_type": "error",
     "traceback": [
      "\u001b[0;31m---------------------------------------------------------------------------\u001b[0m",
      "\u001b[0;31mIndexError\u001b[0m                                Traceback (most recent call last)",
      "\u001b[1;32m/Users/student/A101/Project/photometry.ipynb Cell 10\u001b[0m in \u001b[0;36m<cell line: 11>\u001b[0;34m()\u001b[0m\n\u001b[1;32m      <a href='vscode-notebook-cell:/Users/student/A101/Project/photometry.ipynb#X11sZmlsZQ%3D%3D?line=6'>7</a>\u001b[0m get_ipython()\u001b[39m.\u001b[39mrun_line_magic(\u001b[39m'\u001b[39m\u001b[39mmatplotlib\u001b[39m\u001b[39m'\u001b[39m, \u001b[39m'\u001b[39m\u001b[39mtk\u001b[39m\u001b[39m'\u001b[39m)\n\u001b[1;32m      <a href='vscode-notebook-cell:/Users/student/A101/Project/photometry.ipynb#X11sZmlsZQ%3D%3D?line=8'>9</a>\u001b[0m FWHM \u001b[39m=\u001b[39m \u001b[39m17\u001b[39m\n\u001b[0;32m---> <a href='vscode-notebook-cell:/Users/student/A101/Project/photometry.ipynb#X11sZmlsZQ%3D%3D?line=10'>11</a>\u001b[0m photometry \u001b[39m=\u001b[39m align_moving\u001b[39m.\u001b[39;49mdo_photometry_with_timestamps(\n\u001b[1;32m     <a href='vscode-notebook-cell:/Users/student/A101/Project/photometry.ipynb#X11sZmlsZQ%3D%3D?line=11'>12</a>\u001b[0m     imgs[okay][night_3][\u001b[39m'\u001b[39;49m\u001b[39maligned_filepath\u001b[39;49m\u001b[39m'\u001b[39;49m],\n\u001b[1;32m     <a href='vscode-notebook-cell:/Users/student/A101/Project/photometry.ipynb#X11sZmlsZQ%3D%3D?line=12'>13</a>\u001b[0m \n\u001b[1;32m     <a href='vscode-notebook-cell:/Users/student/A101/Project/photometry.ipynb#X11sZmlsZQ%3D%3D?line=13'>14</a>\u001b[0m     start_object_x\u001b[39m=\u001b[39;49m\u001b[39m617.4767807949628\u001b[39;49m,\n\u001b[1;32m     <a href='vscode-notebook-cell:/Users/student/A101/Project/photometry.ipynb#X11sZmlsZQ%3D%3D?line=14'>15</a>\u001b[0m     start_object_y\u001b[39m=\u001b[39;49m\u001b[39m932.9911452184181\u001b[39;49m,\n\u001b[1;32m     <a href='vscode-notebook-cell:/Users/student/A101/Project/photometry.ipynb#X11sZmlsZQ%3D%3D?line=15'>16</a>\u001b[0m     start_object_t\u001b[39m=\u001b[39;49m\u001b[39m'\u001b[39;49m\u001b[39m2022-11-13T03:51:33.0000\u001b[39;49m\u001b[39m'\u001b[39;49m,\n\u001b[1;32m     <a href='vscode-notebook-cell:/Users/student/A101/Project/photometry.ipynb#X11sZmlsZQ%3D%3D?line=16'>17</a>\u001b[0m \n\u001b[1;32m     <a href='vscode-notebook-cell:/Users/student/A101/Project/photometry.ipynb#X11sZmlsZQ%3D%3D?line=17'>18</a>\u001b[0m     end_object_x\u001b[39m=\u001b[39;49m\u001b[39m1211.797141170518\u001b[39;49m,\n\u001b[1;32m     <a href='vscode-notebook-cell:/Users/student/A101/Project/photometry.ipynb#X11sZmlsZQ%3D%3D?line=18'>19</a>\u001b[0m     end_object_y\u001b[39m=\u001b[39;49m\u001b[39m858.9736043177603\u001b[39;49m,\n\u001b[1;32m     <a href='vscode-notebook-cell:/Users/student/A101/Project/photometry.ipynb#X11sZmlsZQ%3D%3D?line=19'>20</a>\u001b[0m     end_object_t\u001b[39m=\u001b[39;49m\u001b[39m'\u001b[39;49m\u001b[39m2022-11-13T06:35:57.0000\u001b[39;49m\u001b[39m'\u001b[39;49m, \n\u001b[1;32m     <a href='vscode-notebook-cell:/Users/student/A101/Project/photometry.ipynb#X11sZmlsZQ%3D%3D?line=20'>21</a>\u001b[0m \n\u001b[1;32m     <a href='vscode-notebook-cell:/Users/student/A101/Project/photometry.ipynb#X11sZmlsZQ%3D%3D?line=21'>22</a>\u001b[0m     aperture_\u001b[39m=\u001b[39;49mFWHM\u001b[39m*\u001b[39;49m\u001b[39m3\u001b[39;49m,\n\u001b[1;32m     <a href='vscode-notebook-cell:/Users/student/A101/Project/photometry.ipynb#X11sZmlsZQ%3D%3D?line=22'>23</a>\u001b[0m     annulus_inner\u001b[39m=\u001b[39;49m\u001b[39m5\u001b[39;49m\u001b[39m*\u001b[39;49mFWHM,\n\u001b[1;32m     <a href='vscode-notebook-cell:/Users/student/A101/Project/photometry.ipynb#X11sZmlsZQ%3D%3D?line=23'>24</a>\u001b[0m     annulus_outer\u001b[39m=\u001b[39;49m\u001b[39m9\u001b[39;49m\u001b[39m*\u001b[39;49mFWHM,\n\u001b[1;32m     <a href='vscode-notebook-cell:/Users/student/A101/Project/photometry.ipynb#X11sZmlsZQ%3D%3D?line=24'>25</a>\u001b[0m     dry_run\u001b[39m=\u001b[39;49m\u001b[39mTrue\u001b[39;49;00m,\n\u001b[1;32m     <a href='vscode-notebook-cell:/Users/student/A101/Project/photometry.ipynb#X11sZmlsZQ%3D%3D?line=25'>26</a>\u001b[0m \n\u001b[1;32m     <a href='vscode-notebook-cell:/Users/student/A101/Project/photometry.ipynb#X11sZmlsZQ%3D%3D?line=26'>27</a>\u001b[0m     reference_positions\u001b[39m=\u001b[39;49m[] \u001b[39m# CHANGE THIS\u001b[39;49;00m\n\u001b[1;32m     <a href='vscode-notebook-cell:/Users/student/A101/Project/photometry.ipynb#X11sZmlsZQ%3D%3D?line=27'>28</a>\u001b[0m \n\u001b[1;32m     <a href='vscode-notebook-cell:/Users/student/A101/Project/photometry.ipynb#X11sZmlsZQ%3D%3D?line=28'>29</a>\u001b[0m )\n\u001b[1;32m     <a href='vscode-notebook-cell:/Users/student/A101/Project/photometry.ipynb#X11sZmlsZQ%3D%3D?line=30'>31</a>\u001b[0m photometry\n",
      "File \u001b[0;32m~/A101/Project/align_moving.py:119\u001b[0m, in \u001b[0;36mdo_photometry_with_timestamps\u001b[0;34m(images, start_object_x, start_object_y, start_object_t, end_object_x, end_object_y, end_object_t, aperture_, annulus_inner, annulus_outer, dry_run, reference_positions)\u001b[0m\n\u001b[1;32m    114\u001b[0m         photometry_target[\u001b[39m'\u001b[39m\u001b[39mtimestamp\u001b[39m\u001b[39m'\u001b[39m]\u001b[39m.\u001b[39miloc[i] \u001b[39m=\u001b[39m t_obj_readable\n\u001b[1;32m    115\u001b[0m     \u001b[39m## add more here if there are more than 2 apertures\u001b[39;00m\n\u001b[1;32m    116\u001b[0m \n\u001b[1;32m    117\u001b[0m \u001b[39m#photometry_star_mean = pd.DataFrame(columns = [\"num\", \"id\", \"xcenter\", \"ycenter\", \"aperture_sum\", \"total_bkg\", \"aperture_sum_bkgsub\"])\u001b[39;00m\n\u001b[0;32m--> 119\u001b[0m photometry_star_mean \u001b[39m=\u001b[39m photometry_star_list[\u001b[39m0\u001b[39;49m]\n\u001b[1;32m    120\u001b[0m \u001b[39m# calculate the mean values for all the stars\u001b[39;00m\n\u001b[1;32m    121\u001b[0m \u001b[39mfor\u001b[39;00m data_frame \u001b[39min\u001b[39;00m photometry_star_list[\u001b[39m1\u001b[39m:]:\n",
      "\u001b[0;31mIndexError\u001b[0m: list index out of range"
     ]
    }
   ],
   "source": [
    "# Night 3\n",
    "\n",
    "#1211.797141170518, 858.9736043177603, '2022-11-13T06:35:57.0000'\n",
    "\n",
    "#617.4767807949628, 932.9911452184181, '2022-11-13T03:51:33.0000'\n",
    "\n",
    "%matplotlib tk\n",
    "\n",
    "FWHM = 17\n",
    "\n",
    "photometry = align_moving.do_photometry_with_timestamps(\n",
    "    imgs[okay][night_3]['aligned_filepath'],\n",
    "\n",
    "    start_object_x=617.4767807949628,\n",
    "    start_object_y=932.9911452184181,\n",
    "    start_object_t='2022-11-13T03:51:33.0000',\n",
    "\n",
    "    end_object_x=1211.797141170518,\n",
    "    end_object_y=858.9736043177603,\n",
    "    end_object_t='2022-11-13T06:35:57.0000', \n",
    "\n",
    "    aperture_=FWHM*3,\n",
    "    annulus_inner=5*FWHM,\n",
    "    annulus_outer=9*FWHM,\n",
    "    dry_run=True,\n",
    "\n",
    "    reference_positions=[] # CHANGE THIS\n",
    "\n",
    ")\n",
    "\n",
    "photometry"
   ]
  },
  {
   "cell_type": "code",
   "execution_count": null,
   "metadata": {},
   "outputs": [
    {
     "name": "stderr",
     "output_type": "stream",
     "text": [
      "/var/folders/p8/xx7c8vpj7qj510bw5jdsr0800000gq/T/ipykernel_23049/2914660617.py:1: UserWarning: Boolean Series key will be reindexed to match DataFrame index.\n",
      "  imgs[okay][night_2_group_1]['aligned_filepath']\n"
     ]
    },
    {
     "data": {
      "text/plain": [
       "6      aligned/combined_2022-11-12T04:53:31.0000__Bro...\n",
       "11     aligned/combined_2022-11-12T04:37:31.0000__Bro...\n",
       "16     aligned/combined_2022-11-12T02:48:48.0000__Bro...\n",
       "20     aligned/combined_2022-11-12T02:50:48.0000__Bro...\n",
       "22     aligned/combined_2022-11-12T04:15:11.0000__Bro...\n",
       "                             ...                        \n",
       "595    aligned/combined_2022-11-12T03:19:08.0000__Bro...\n",
       "598    aligned/combined_2022-11-12T04:23:11.0000__Bro...\n",
       "599    aligned/combined_2022-11-12T04:18:11.0000__Bro...\n",
       "602    aligned/combined_2022-11-12T02:45:48.0000__Bro...\n",
       "603    aligned/combined_2022-11-12T04:00:11.0000__Bro...\n",
       "Name: aligned_filepath, Length: 119, dtype: object"
      ]
     },
     "metadata": {},
     "output_type": "display_data"
    }
   ],
   "source": [
    "imgs[okay][night_2_group_1]['aligned_filepath']"
   ]
  }
 ],
 "metadata": {
  "kernelspec": {
   "display_name": "Python 3.8.13 ('astroconda4')",
   "language": "python",
   "name": "python3"
  },
  "language_info": {
   "codemirror_mode": {
    "name": "ipython",
    "version": 3
   },
   "file_extension": ".py",
   "mimetype": "text/x-python",
   "name": "python",
   "nbconvert_exporter": "python",
   "pygments_lexer": "ipython3",
   "version": "3.8.13"
  },
  "orig_nbformat": 4,
  "vscode": {
   "interpreter": {
    "hash": "5aecb4207278c061799f2f398ecce3a9c0eed07129d1997f233278f472e13e18"
   }
  }
 },
 "nbformat": 4,
 "nbformat_minor": 2
}
